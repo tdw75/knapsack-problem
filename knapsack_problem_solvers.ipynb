{
 "cells": [
  {
   "cell_type": "markdown",
   "metadata": {},
   "source": [
    "## The Knapsack Problem"
   ]
  },
  {
   "cell_type": "markdown",
   "metadata": {},
   "source": [
    "This notebook contains different algorithms to solve the knapsack problem. The knapsack problem is defined as follows:\n",
    "\n",
    "- let there be $n$ items denoted by $i = 0,..., n-1$\n",
    "- let $v_i$ be value of an item and the $w_i$ weight\n",
    "- let $K$ be the capacity of the knapsack\n",
    "- let $x_i$ be a variable that takes the valie $1$ if item $i$ is taken in the knapsack and $0$ otherwise\n",
    "\n",
    "The goal is to find the $k$ items to take in the knapsack that maximise the total value. The problem is formalised as: \n",
    "<br>\n",
    "<br>\n",
    "<br>\n",
    "$$\\begin{alignat}{3}\n",
    "\\text{maximise: }                &\\quad&  \\sum_{i \\in 0, ..., n-1} v_i \\cdot x_i  &&          & \\\\\n",
    "\\text{subject to: } &\\quad&  \\sum_{i \\in 0, ..., n-1} w_i \\cdot x_i  && \\leq K   &\\\\\n",
    "                    &\\quad&  x_i \\in {\\{0,1\\}}                       &&    &\\quad \\forall i=0,...,n-1\n",
    "\\end{alignat}\\\\\n",
    "$$\n",
    "<br>\n",
    "<br>"
   ]
  },
  {
   "cell_type": "markdown",
   "metadata": {},
   "source": [
    "The algorithms implemented to solve the problem are:\n",
    "- greedy algorithm \n",
    "- dynamic program\n",
    "- branch and bound (in progress)"
   ]
  },
  {
   "cell_type": "code",
   "execution_count": 20,
   "metadata": {},
   "outputs": [],
   "source": [
    "from knapsack.problem_setup import parse_input_data, output_solution\n",
    "from knapsack.dynamic_program import dp_solver\n",
    "from knapsack.greedy import greedy_solver\n",
    "from knapsack.branch_and_bound import BranchAndBound"
   ]
  },
  {
   "cell_type": "markdown",
   "metadata": {},
   "source": [
    "Different knapsack files from the *data* folder can be entered in the cell below to test the algorithms on different problems. "
   ]
  },
  {
   "cell_type": "code",
   "execution_count": 21,
   "metadata": {},
   "outputs": [
    {
     "name": "stdout",
     "output_type": "stream",
     "text": [
      "The knapsack has a capacity of 100,000 and there are 200 items to be considerd\n"
     ]
    }
   ],
   "source": [
    "with open('data\\ks_200_0', 'r') as input_data_file:\n",
    "    input_data = input_data_file.read()\n",
    "    \n",
    "items, capacity = parse_input_data(input_data)\n",
    "\n",
    "print(\"The knapsack has a capacity of {:,.0f} and there are {:,.0f} items to be considerd\".format(capacity, len(items)))"
   ]
  },
  {
   "cell_type": "markdown",
   "metadata": {},
   "source": [
    "### Greedy Algorithm"
   ]
  },
  {
   "cell_type": "markdown",
   "metadata": {},
   "source": [
    "In most cases, greedy algorithms are unable achieve optimality. However, they are useful for quickly finding a solution that can be used as a baseline with which to compare solutions from more complex algorithms; here is no exception.\n",
    "\n",
    "The greediness of this algorithm is in relation to the value to weight ration of each item. That is, starting with the item that has the most value per weight units, items are taken progressively until the knapsack's capacity is filled.\n",
    "\n",
    "Due to its simplicity, the algorithm is able to very quickly arrive at a feasible solution, even for very large problems, but without any guarantee of optimality."
   ]
  },
  {
   "cell_type": "code",
   "execution_count": 22,
   "metadata": {},
   "outputs": [],
   "source": [
    "decision_variables_gr, obj_value_gr = greedy_solver(items, capacity)\n",
    "selected_items = [idx for idx, var in enumerate(decision_variables_gr) if var == 1]"
   ]
  },
  {
   "cell_type": "code",
   "execution_count": 23,
   "metadata": {},
   "outputs": [
    {
     "name": "stdout",
     "output_type": "stream",
     "text": [
      "The knapsack has a total value of 100,062 and contains:\n",
      "- item 168 with weight 30,834 and value 30,918\n",
      "- item 196 with weight 34,348 and value 34,446\n",
      "- item 198 with weight 34,599 and value 34,698\n"
     ]
    }
   ],
   "source": [
    "print(\"The knapsack has a total value of {:,.0f} and contains:\".format(obj_value_gr))\n",
    "for item in selected_items:\n",
    "    print(\"- item {:,.0f} with weight {:,.0f} and value {:,.0f}\".format(item, items[item].weight, items[item].value))"
   ]
  },
  {
   "cell_type": "markdown",
   "metadata": {},
   "source": [
    "### Dynamic Program"
   ]
  },
  {
   "cell_type": "markdown",
   "metadata": {},
   "source": [
    "The dynamic program implementation for the knapsack problem is guaranteed to find an exact solution. However, with its \"pseudo-polynomial\" time complexity of $O(nK)$ it can perform poorly for problems with large number of potential items and/or a large capacity.  \n",
    "\n",
    "This can be seen with the problems in the *data* folder. The dynamic program quickly solves small to medium sized problems such as the instance with 1,000 potential items and a capacity of 100,000. But for larger problems, such as the one with 10,000 items and a capacity of 1,000,000, the time complexity reaches a level where an optimal solution cannot be found within a practical period of time. Thus, a computationally more efficient alternative is needed for such problems."
   ]
  },
  {
   "cell_type": "code",
   "execution_count": 24,
   "metadata": {},
   "outputs": [],
   "source": [
    "decision_variables_dp, obj_value_dp = dp_solver(items, capacity)\n",
    "selected_items = [idx for idx, var in enumerate(decision_variables_dp) if var == 1]"
   ]
  },
  {
   "cell_type": "code",
   "execution_count": 25,
   "metadata": {},
   "outputs": [
    {
     "name": "stdout",
     "output_type": "stream",
     "text": [
      "The knapsack has a total value of 100,236 and contains:\n",
      "- item 118 with weight 24,559 and value 24,618\n",
      "- item 120 with weight 24,810 and value 24,870\n",
      "- item 122 with weight 25,061 and value 25,122\n",
      "- item 126 with weight 25,563 and value 25,626\n"
     ]
    }
   ],
   "source": [
    "print(\"The knapsack has a total value of {:,.0f} and contains:\".format(obj_value_dp))\n",
    "for item in selected_items:\n",
    "    print(\"- item {:,.0f} with weight {:,.0f} and value {:,.0f}\".format(item, items[item].weight, items[item].value))"
   ]
  },
  {
   "cell_type": "markdown",
   "metadata": {},
   "source": [
    "### Branch and Bound (in progress)"
   ]
  },
  {
   "cell_type": "code",
   "execution_count": null,
   "metadata": {},
   "outputs": [],
   "source": [
    "bnb = BranchAndBound(input_data)\n",
    "decision_variables_bnb, obj_value_bnb = bnb.solve()\n",
    "selected_items_bnb = [idx for idx, var in enumerate(decision_variables_bnb) if var == 1]"
   ]
  },
  {
   "cell_type": "code",
   "execution_count": null,
   "metadata": {},
   "outputs": [],
   "source": [
    "print(\"The knapsack has a total value of {:,.0f} and contains:\".format(obj_value_dp))\n",
    "for item in selected_items_bnb:\n",
    "    print(\"- item {:,.0f} with weight {:,.0f} and value {:,.0f}\".format(item, items[item].weight, items[item].value))"
   ]
  }
 ],
 "metadata": {
  "kernelspec": {
   "display_name": "Python 3",
   "language": "python",
   "name": "python3"
  },
  "language_info": {
   "codemirror_mode": {
    "name": "ipython",
    "version": 3
   },
   "file_extension": ".py",
   "mimetype": "text/x-python",
   "name": "python",
   "nbconvert_exporter": "python",
   "pygments_lexer": "ipython3",
   "version": "3.7.3"
  }
 },
 "nbformat": 4,
 "nbformat_minor": 2
}
